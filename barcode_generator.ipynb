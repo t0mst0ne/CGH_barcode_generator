{
  "nbformat": 4,
  "nbformat_minor": 0,
  "metadata": {
    "colab": {
      "provenance": [],
      "authorship_tag": "ABX9TyM8wRG3KctOPK8Ym/GdN+vN",
      "include_colab_link": true
    },
    "kernelspec": {
      "name": "python3",
      "display_name": "Python 3"
    },
    "language_info": {
      "name": "python"
    }
  },
  "cells": [
    {
      "cell_type": "markdown",
      "metadata": {
        "id": "view-in-github",
        "colab_type": "text"
      },
      "source": [
        "<a href=\"https://colab.research.google.com/github/t0mst0ne/CGH_barcode_generator/blob/main/barcode_generator.ipynb\" target=\"_parent\"><img src=\"https://colab.research.google.com/assets/colab-badge.svg\" alt=\"Open In Colab\"/></a>"
      ]
    },
    {
      "cell_type": "code",
      "source": [
        "#!apt-get install -y python3-dev libcairo2-dev\n",
        "#!pip install pillow reportlab barcode"
      ],
      "metadata": {
        "id": "g3fpCotW9tNw"
      },
      "execution_count": null,
      "outputs": []
    },
    {
      "cell_type": "code",
      "source": [
        "!wget -O TaipeiSansTCBeta-Regular.ttf https://drive.google.com/uc?id=1eGAsTN1HBpJAkeVM57_C7ccp7hbgSz3_&export=download"
      ],
      "metadata": {
        "id": "3jFFo8vZPYwF"
      },
      "execution_count": null,
      "outputs": []
    },
    {
      "cell_type": "code",
      "source": [
        "!pip install treepoem\n",
        "!apt-get install -y ghostscript\n"
      ],
      "metadata": {
        "id": "IkWMSdMw-0Y0"
      },
      "execution_count": null,
      "outputs": []
    },
    {
      "cell_type": "code",
      "execution_count": 75,
      "metadata": {
        "id": "FBWe9LES9kni"
      },
      "outputs": [],
      "source": [
        "import pandas as pd\n",
        "\n",
        "# 讀取 Excel 檔案\n",
        "data_frame = pd.read_excel('input.xlsx')\n",
        "\n",
        "# 將資料轉換成 data_list 格式\n",
        "data_list = []\n",
        "for index, row in data_frame.iterrows():\n",
        "    text = str(row['Text'])\n",
        "    data = str(row['Barcode'])\n",
        "    data_list.append((text, data))\n"
      ]
    },
    {
      "cell_type": "code",
      "source": [
        "import treepoem\n",
        "from reportlab.pdfgen import canvas\n",
        "from reportlab.lib.pagesizes import A4, landscape\n",
        "from reportlab.lib.units import mm\n",
        "\n",
        "\n",
        "from reportlab.pdfbase import pdfmetrics\n",
        "from reportlab.pdfbase.ttfonts import TTFont\n",
        "\n",
        "fontpath ='/content/TaipeiSansTCBeta-Regular.ttf'\n",
        "pdfmetrics.registerFont(TTFont('Taipei Sans TC Beta', fontpath))\n",
        "\n",
        "\n",
        "\n",
        "# Set the font\n",
        "c.setFont('Taipei Sans TC Beta', 12)\n",
        "\n",
        "# List of data\n",
        "\n",
        "c = canvas.Canvas(\"output.pdf\", pagesize=A4)\n",
        "c.setFont(\"Helvetica\", 10)\n",
        "\n",
        "# Starting coordinates\n",
        "x = 2 * mm\n",
        "y = 280 * mm\n",
        "\n",
        "# Column width\n",
        "column_width = 70 * mm\n",
        "\n",
        "for i, (text, data) in enumerate(data_list):\n",
        "    # Check if the data contains Chinese characters\n",
        "    contains_chinese = any('\\u4e00' <= char <= '\\u9fff' for char in text)\n",
        "\n",
        "    if contains_chinese:\n",
        "        # Set the font size to match barcode dimensions\n",
        "        font_size = 12  # Default font size\n",
        "        barcode_width = 30 * mm\n",
        "        barcode_height = 8 * mm\n",
        "        text_width = c.stringWidth(text, \"Taipei Sans TC Beta\", font_size)\n",
        "\n",
        "        # Adjust the font size to match the barcode dimensions\n",
        "        while text_width > barcode_width:\n",
        "            font_size -= 1\n",
        "            text_width = c.stringWidth(text, \"Taipei Sans TC Beta\", font_size)\n",
        "\n",
        "        # Calculate the x-coordinate to center the text : x + (barcode_width - text_width) / 2\n",
        "        text_x = x \n",
        "\n",
        "        # Calculate the y-coordinate for text and barcode\n",
        "        text_y = y - 7\n",
        "        #barcode_y = y - barcode_height\n",
        "\n",
        "        # Draw the text\n",
        "        c.setFont(\"Taipei Sans TC Beta\", font_size)\n",
        "        c.drawString(text_x, text_y, text)\n",
        "\n",
        "    else:\n",
        "        \n",
        "        # Modify the data by replacing multiple spaces with two spaces\n",
        "        data_modified = data.replace(\"  \", \" \")\n",
        "\n",
        "        # Generate and save barcode\n",
        "        image = treepoem.generate_barcode(barcode_type=\"code128\", data=data_modified)\n",
        "        image.convert(\"1\").save(f\"barcode{i}.png\")\n",
        "\n",
        "        # Draw the text\n",
        "        c.setFont(\"Helvetica\", 10)\n",
        "        c.drawString(x, y, text)\n",
        "\n",
        "        # Draw the code below the text\n",
        "        c.setFont(\"Helvetica\", 6)\n",
        "        c.drawString(x, y - 8 * mm, data_modified)\n",
        "\n",
        "        # Draw the barcode image below the text\n",
        "        c.drawImage(f\"barcode{i}.png\", x + 30 * mm, y - 10 * mm, 30 * mm, 8 * mm)\n",
        "\n",
        "    # Update y-coordinate\n",
        "    y -= 15 * mm  # Adjust this value to change the vertical space between the rows\n",
        "\n",
        "    # If y-coordinate is less than a certain limit, switch to the next column\n",
        "    if y < 20 * mm:\n",
        "        x += column_width\n",
        "        y = 280 * mm\n",
        "\n",
        "c.save()\n",
        "\n"
      ],
      "metadata": {
        "id": "hJs_ZV9S9n_S"
      },
      "execution_count": 76,
      "outputs": []
    },
    {
      "cell_type": "code",
      "source": [
        "import pandas as pd\n",
        "\n",
        "# Convert data_list to a DataFrame\n",
        "data_frame = pd.DataFrame(data_list, columns=[\"Text\", \"Barcode\"])\n",
        "\n",
        "# Export DataFrame to Excel\n",
        "data_frame.to_excel(\"output.xlsx\", index=False)\n"
      ],
      "metadata": {
        "id": "-jA8e7vR_Iak"
      },
      "execution_count": 74,
      "outputs": []
    },
    {
      "cell_type": "code",
      "source": [
        "data_list = [\n",
        "    (\"腦中風藥\",\"\"),\n",
        "    (\"Aspirin protect 100mg/tab\", \"PTA056M\"),\n",
        "    (\"Clopidogrel (Plavix) 75mg/tab\", \"PLC031M\"),\n",
        "    (\"Persantin (Dipyridamole) 75mg/tab\", \"PFE007M\"),\n",
        "    (\"Persantin (Dipyridamole) 25mg/tab\", \"PFE008M\"),\n",
        "    (\"Aggrenox 200mg/tab\", \"PFE010M\"),\n",
        "    (\"Pradaxa - Dabigatran 110mg/tab\", \"PLC034M\"),\n",
        "    (\"Pradaxa - Dabigatran 150mg/tab\", \"PLC035M\"),\n",
        "    (\"Xarelto (Rivaroxaban) 10mg/tab\", \"PLC033M\"),\n",
        "    (\"Xarelto (Rivaroxaban) 15mg/tab\", \"PLC037M\"),\n",
        "    (\"Xarelto (Rivaroxaban) 20mg/tab\", \"PLC039M\"),\n",
        "    (\"Eliquis (Apixaban) 2.5mg/tab\", \"PLC053M\"),\n",
        "    (\"降血脂藥\", \"\"),\n",
        "    (\"Gemfibrozil 300mg/cap\", \"PFC007M\"),  # Modified data\n",
        "    (\"Fenofibrate 160mg/tab\", \"PFC042M\"),\n",
        "    (\"Ezetimibe 10mg/tab\", \"PFC018M\"),\n",
        "    (\"Xenical (Orlistat) 120mg/cap\", \"PKI001M\"),\n",
        "    (\"Simvastatin 40mg/tab\", \"PFC003M\"),\n",
        "    (\"Vytorin (Exetimib10/Simvastatin20)/tab\", \"PFC066M\"),\n",
        "    (\"Crestor (Rosuvastatin) 5mg/tab\", \"PFC073M\"),\n",
        "    (\"Crestor (Rosuvastatin) 10mg/tab\", \"PFC005M\"),\n",
        "    (\"Lipitor (Atorvastatin) 40mg/tab\", \"PFC001M\"),\n",
        "    (\"Lipitor (Atorvastatin) 10mg/tab\", \"PFC002M\"),\n",
        "    (\"Lescol XL (Fluvastatin XL)80mg/tab\", \"PFC010M\"),\n",
        "    (\"Livalo (Pitavastatin) 2mg/tab\", \"PFC070M\"),\n",
        "    (\"Depakine (sodium valproate) 200mg/tab\", \"PGA048M\"),\n",
        "    (\"Depakine chrono (Sodium valproate) 500mg/tab\", \"PGA060M\"),\n",
        "    (\"Depakine sol’n 200mg/ml, 40ml/bot\", \"PTA086S\"),\n",
        "    (\"Dilantin (Phenytoin) 100mg/cap\", \"PGA012M\"),\n",
        "    (\"Carpine (Carbamezepine) 200mg/tab\", \"PGA078M\"),\n",
        "    (\"Tegretol (Carbamazepine) 200mg/tab\", \"PGA004M\"),\n",
        "    (\"Tegretol CR (Carbamazepine CR) 200mg/tab\", \"PGA006M\"),\n",
        "    (\"Trileptal (Oxcarbazepine) 300mg/tab\", \"PGA001M\"),\n",
        "    (\"Neurotol (Oxcarbazepine) 300mg/tab\", \"PGA070M\"),\n",
        "    (\"Trileptal (Oxcarbazepine 6%) oral suspension\", \"PTA100S\"),\n",
        "    (\"Luminal (Phenobarbital) 30mg/tab\", \"PGA036M\"),\n",
        "    (\"Neurontin (Gabapentin) 100mg/cap\", \"PGA062M\"),\n",
        "    (\"Neurontin (Gabapentin) 400mg/cap\", \"PGA066M\"),\n",
        "    (\"Gebapentin oral solution 50mg/ml, 240ml/bot\", \"PTA105S\"),\n",
        "    (\"Keppra (Levetiracetam) 500mg/f.c tab\", \"PGA003M\"),\n",
        "    (\"Keppra oral solution 100mg/ml, 300mi/bot\", \"PGA076S\"),\n",
        "    (\"Topamax (Topiramate) 25mg/tab\", \"PGA032M\"),\n",
        "    (\"Topamax (Topiramate) 100mg/tab\", \"PGA034M\"),\n",
        "    (\"Lamotrigine 50mg/tab\", \"PGA088M\"),\n",
        "    (\"Lamictal (Lamotrigine) 50mg/tab\", \"PGA050M\"),\n",
        "    (\"Lamotrigine 100mg/tab\", \"PGA086M\"),\n",
        "    (\"Lamictal (Lamotrigine) 100mg/tab\", \"PGA054M\"),\n",
        "    (\"Sabril (Vigabatrin) 500mg/tab\", \"PGA030M\"),\n",
        "    (\"Lyrica (Pregabalin) 75mg/tab\", \"PGA097M\"),\n",
        "    (\"Clobazam (Frisium) 10mg/tab\", \"PGA094M\"),\n",
        "    (\"Zonegran (Zonisamide) 100mg/tab\", \"PGA098M\"),\n",
        "    (\"Vimpat (Lacosamide) 100mg/tab\", \"PGA103M\"),\n",
        "    (\"Vimpat (Lacosamide) 200mg/tab\", \"PGA104M\"),\n",
        "    (\"Fycompa (Perampanel) 2mg/tab\", \"PGA102M\"),\n",
        "    (\"Fycompa (Parempanel) 4mg/tab\", \"PGA101M\"),\n",
        "    (\"Tremsolin (Primidone) 250mg/tab 自費\", \"PGA044M\"),\n",
        "    (\"Sinemet 25-100 - Sinemet 25-100 (Levodopa 100mg+Carbidopa 25mg)/tab\", \"PGB014M\"),\n",
        "]"
      ],
      "metadata": {
        "id": "YxltthUAx9DP"
      },
      "execution_count": null,
      "outputs": []
    }
  ]
}